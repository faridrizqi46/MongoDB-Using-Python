{
 "cells": [
  {
   "cell_type": "code",
   "execution_count": 1,
   "metadata": {},
   "outputs": [],
   "source": [
    "from pymongo import MongoClient"
   ]
  },
  {
   "cell_type": "code",
   "execution_count": 2,
   "metadata": {},
   "outputs": [],
   "source": [
    "conn = MongoClient('localhost', 27017)\n",
    "db = conn.coba # This is like 'USE' command in CLI"
   ]
  },
  {
   "cell_type": "code",
   "execution_count": 3,
   "metadata": {},
   "outputs": [],
   "source": [
    "# Use collection or create new collection\n",
    "collection = db.coba3"
   ]
  },
  {
   "cell_type": "code",
   "execution_count": null,
   "metadata": {},
   "outputs": [],
   "source": [
    "# Insert new record\n",
    "# records = [\n",
    "#     {\"item\": \"canvas\",\n",
    "#      \"qty\": 100,\n",
    "#      \"size\": {\"h\": 28, \"w\": 35.5, \"uom\": \"cm\"},\n",
    "#      \"status\": \"A\"},\n",
    "#     {\"item\": \"journal\",\n",
    "#      \"qty\": 25,\n",
    "#      \"size\": {\"h\": 14, \"w\": 21, \"uom\": \"cm\"},\n",
    "#      \"status\": \"A\"},\n",
    "#     {\"item\": \"mat\",\n",
    "#      \"qty\": 85,\n",
    "#      \"size\": {\"h\": 27.9, \"w\": 35.5, \"uom\": \"cm\"},\n",
    "#      \"status\": \"A\"},\n",
    "#     {\"item\": \"mousepad\",\n",
    "#      \"qty\": 25,\n",
    "#      \"size\": {\"h\": 19, \"w\": 22.85, \"uom\": \"cm\"},\n",
    "#      \"status\": \"P\"},\n",
    "#     {\"item\": \"notebook\",\n",
    "#      \"qty\": 50,\n",
    "#      \"size\": {\"h\": 8.5, \"w\": 11, \"uom\": \"in\"},\n",
    "#      \"status\": \"P\"},\n",
    "#     {\"item\": \"paper\",\n",
    "#      \"qty\": 100,\n",
    "#      \"size\": {\"h\": 8.5, \"w\": 11, \"uom\": \"in\"},\n",
    "#      \"status\": \"D\"},\n",
    "#     {\"item\": \"planner\",\n",
    "#      \"qty\": 75,\n",
    "#      \"size\": {\"h\": 22.85, \"w\": 30, \"uom\": \"cm\"},\n",
    "#      \"status\": \"D\"},\n",
    "#     {\"item\": \"postcard\",\n",
    "#      \"qty\": 45,\n",
    "#      \"size\": {\"h\": 10, \"w\": 15.25, \"uom\": \"cm\"},\n",
    "#      \"status\": \"A\"},\n",
    "#     {\"item\": \"sketchbook\",\n",
    "#      \"qty\": 80,\n",
    "#      \"size\": {\"h\": 14, \"w\": 21, \"uom\": \"cm\"},\n",
    "#      \"status\": \"A\"},\n",
    "#     {\"item\": \"sketch pad\",\n",
    "#      \"qty\": 95,\n",
    "#      \"size\": {\"h\": 22.85, \"w\": 30.5, \"uom\": \"cm\"},\n",
    "#      \"status\": \"A\"}]\n",
    "# collection.insert_many(records)"
   ]
  },
  {
   "cell_type": "code",
   "execution_count": 4,
   "metadata": {},
   "outputs": [
    {
     "data": {
      "text/plain": [
       "<pymongo.results.UpdateResult at 0x1d9bc28c088>"
      ]
     },
     "execution_count": 4,
     "metadata": {},
     "output_type": "execute_result"
    }
   ],
   "source": [
    "# Update one document\n",
    "collection.update_one(\n",
    "{\"item\":\"sketch pad\"}, # The document we want to change\n",
    "{\"$set\":{\"size.uom\":\"m\",\"status\":\"P\"}, # Change old record with $set, just like SQL\n",
    "\"$currentDate\":{\"lastModified\":True}} # Add new record with name 'lastModified' and the value is $currentDate\n",
    ")"
   ]
  },
  {
   "cell_type": "code",
   "execution_count": 6,
   "metadata": {},
   "outputs": [
    {
     "data": {
      "text/plain": [
       "{'_id': ObjectId('61e6500b24efe77d8fa712e7'),\n",
       " 'item': 'sketch pad',\n",
       " 'qty': 95,\n",
       " 'size': {'h': 22.85, 'w': 30.5, 'uom': 'm'},\n",
       " 'status': 'P',\n",
       " 'lastModified': datetime.datetime(2022, 1, 18, 5, 43, 7, 845000)}"
      ]
     },
     "execution_count": 6,
     "metadata": {},
     "output_type": "execute_result"
    }
   ],
   "source": [
    "collection.find_one({'item':'sketch pad'})"
   ]
  },
  {
   "cell_type": "code",
   "execution_count": 7,
   "metadata": {},
   "outputs": [
    {
     "data": {
      "text/plain": [
       "<pymongo.results.UpdateResult at 0x1d9bc522b48>"
      ]
     },
     "execution_count": 7,
     "metadata": {},
     "output_type": "execute_result"
    }
   ],
   "source": [
    "# Update many documents\n",
    "collection.update_many(\n",
    "    {\"qty\": {\"$lt\": 50}}, # There are 3 documents with qty less than 50\n",
    "    {\"$set\": {\"size.uom\": \"in\", \"status\": \"P\"},\n",
    "     \"$currentDate\": {\"lastModified\": True}})"
   ]
  },
  {
   "cell_type": "code",
   "execution_count": 8,
   "metadata": {},
   "outputs": [
    {
     "name": "stdout",
     "output_type": "stream",
     "text": [
      "{'_id': ObjectId('61e6500b24efe77d8fa712df'), 'item': 'journal', 'qty': 25, 'size': {'h': 14, 'w': 21, 'uom': 'in'}, 'status': 'P', 'lastModified': datetime.datetime(2022, 1, 18, 5, 46, 3, 211000)}\n",
      "{'_id': ObjectId('61e6500b24efe77d8fa712e1'), 'item': 'mousepad', 'qty': 25, 'size': {'h': 19, 'w': 22.85, 'uom': 'in'}, 'status': 'P', 'lastModified': datetime.datetime(2022, 1, 18, 5, 46, 3, 212000)}\n",
      "{'_id': ObjectId('61e6500b24efe77d8fa712e5'), 'item': 'postcard', 'qty': 45, 'size': {'h': 10, 'w': 15.25, 'uom': 'in'}, 'status': 'P', 'lastModified': datetime.datetime(2022, 1, 18, 5, 46, 3, 212000)}\n"
     ]
    }
   ],
   "source": [
    "for doc in collection.find({'qty':{'$lt':50}}):\n",
    "    print(doc)"
   ]
  },
  {
   "cell_type": "code",
   "execution_count": 9,
   "metadata": {},
   "outputs": [
    {
     "name": "stdout",
     "output_type": "stream",
     "text": [
      "Before Replace\n",
      "{'_id': ObjectId('61e6500b24efe77d8fa712e3'), 'item': 'paper', 'qty': 100, 'size': {'h': 8.5, 'w': 11, 'uom': 'in'}, 'status': 'D'}\n",
      "\n",
      "After Replace\n",
      "{'_id': ObjectId('61e6500b24efe77d8fa712e3'), 'item': 'paper', 'instock': [{'warehouse': 'A', 'qty': 60}, {'warehouse': 'B', 'qty': 40}]}\n"
     ]
    }
   ],
   "source": [
    "# Replace document\n",
    "# The difference between replace and update is update we change the value or add the value, \n",
    "# replace will delete all record in that document and replace it with something new\n",
    "print('Before Replace')\n",
    "print(collection.find_one({'item':'paper'}))\n",
    "\n",
    "collection.replace_one(\n",
    "    {\"item\": \"paper\"}, # Find the document we want to replace\n",
    "    {\"item\": \"paper\", # New record\n",
    "     \"instock\": [ # New Record\n",
    "         {\"warehouse\": \"A\", \"qty\": 60}, # New Record\n",
    "         {\"warehouse\": \"B\", \"qty\": 40}]}) # New Record\n",
    "\n",
    "print('')\n",
    "print('After Replace')\n",
    "print(collection.find_one({'item':'paper'}))"
   ]
  }
 ],
 "metadata": {
  "interpreter": {
   "hash": "c569783f413038fc1cb6066c2cfeb0b0b4f3040dc384f8f485d839685bac4677"
  },
  "kernelspec": {
   "display_name": "Python 3.7.9 64-bit (system)",
   "language": "python",
   "name": "python3"
  },
  "language_info": {
   "codemirror_mode": {
    "name": "ipython",
    "version": 3
   },
   "file_extension": ".py",
   "mimetype": "text/x-python",
   "name": "python",
   "nbconvert_exporter": "python",
   "pygments_lexer": "ipython3",
   "version": "3.7.9"
  },
  "orig_nbformat": 4
 },
 "nbformat": 4,
 "nbformat_minor": 2
}
