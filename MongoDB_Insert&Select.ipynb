{
 "cells": [
  {
   "cell_type": "code",
   "execution_count": 2,
   "metadata": {},
   "outputs": [],
   "source": [
    "from pymongo import MongoClient"
   ]
  },
  {
   "cell_type": "code",
   "execution_count": 4,
   "metadata": {},
   "outputs": [],
   "source": [
    "conn = MongoClient('localhost', 27017)\n",
    "db = conn.coba # This is like 'USE' command in CLI"
   ]
  },
  {
   "cell_type": "code",
   "execution_count": 6,
   "metadata": {},
   "outputs": [],
   "source": [
    "# Use collection or create new collection\n",
    "collection = db.coba2"
   ]
  },
  {
   "cell_type": "code",
   "execution_count": 8,
   "metadata": {},
   "outputs": [
    {
     "data": {
      "text/plain": [
       "<pymongo.results.InsertOneResult at 0x2bbd00d2748>"
      ]
     },
     "execution_count": 8,
     "metadata": {},
     "output_type": "execute_result"
    }
   ],
   "source": [
    "# Insert one new document to collection\n",
    "record={\n",
    "        'firstname':'Farid',\n",
    "        'lastname':'Rizqi',\n",
    "        'address':'Tangerang',\n",
    "        'age':29\n",
    "        }\n",
    "collection.insert_one(record)"
   ]
  },
  {
   "cell_type": "code",
   "execution_count": 9,
   "metadata": {},
   "outputs": [
    {
     "data": {
      "text/plain": [
       "<pymongo.results.InsertManyResult at 0x2bbd0396908>"
      ]
     },
     "execution_count": 9,
     "metadata": {},
     "output_type": "execute_result"
    }
   ],
   "source": [
    "# Insert many documents to collection\n",
    "records = [\n",
    "    {\n",
    "        'firstname':'Mamat',\n",
    "        'lastname':'Akbar',\n",
    "        'address':'Jakarta',\n",
    "        'age':20\n",
    "        },\n",
    "    {\n",
    "        'firstname':'Usep',\n",
    "        'lastname':'Sejati',\n",
    "        'address':'Tangerang',\n",
    "        'age':25\n",
    "        },\n",
    "    {\n",
    "        'firstname':'Nurul',\n",
    "        'lastname':'Hasyah',\n",
    "        'address':'Bandung',\n",
    "        'age':17\n",
    "        }\n",
    "]\n",
    "collection.insert_many(records)"
   ]
  },
  {
   "cell_type": "code",
   "execution_count": 10,
   "metadata": {},
   "outputs": [
    {
     "data": {
      "text/plain": [
       "{'_id': ObjectId('61e6491224efe77d8fa712da'),\n",
       " 'firstname': 'Farid',\n",
       " 'lastname': 'Rizqi',\n",
       " 'address': 'Tangerang',\n",
       " 'age': 29}"
      ]
     },
     "execution_count": 10,
     "metadata": {},
     "output_type": "execute_result"
    }
   ],
   "source": [
    "# Return one document\n",
    "collection.find_one()"
   ]
  },
  {
   "cell_type": "code",
   "execution_count": 11,
   "metadata": {},
   "outputs": [
    {
     "name": "stdout",
     "output_type": "stream",
     "text": [
      "{'_id': ObjectId('61e6491224efe77d8fa712da'), 'firstname': 'Farid', 'lastname': 'Rizqi', 'address': 'Tangerang', 'age': 29}\n",
      "{'_id': ObjectId('61e649d824efe77d8fa712db'), 'firstname': 'Mamat', 'lastname': 'Akbar', 'address': 'Jakarta', 'age': 20}\n",
      "{'_id': ObjectId('61e649d824efe77d8fa712dc'), 'firstname': 'Usep', 'lastname': 'Sejati', 'address': 'Tangerang', 'age': 25}\n",
      "{'_id': ObjectId('61e649d824efe77d8fa712dd'), 'firstname': 'Nurul', 'lastname': 'Hasyah', 'address': 'Bandung', 'age': 17}\n"
     ]
    }
   ],
   "source": [
    "# Return all documents\n",
    "for doc in collection.find():\n",
    "    print(doc)"
   ]
  },
  {
   "cell_type": "code",
   "execution_count": 12,
   "metadata": {},
   "outputs": [
    {
     "name": "stdout",
     "output_type": "stream",
     "text": [
      "{'_id': ObjectId('61e6491224efe77d8fa712da'), 'firstname': 'Farid', 'lastname': 'Rizqi', 'address': 'Tangerang', 'age': 29}\n",
      "{'_id': ObjectId('61e649d824efe77d8fa712dc'), 'firstname': 'Usep', 'lastname': 'Sejati', 'address': 'Tangerang', 'age': 25}\n"
     ]
    }
   ],
   "source": [
    "# Return doc with condition\n",
    "for doc in collection.find({'address':'Tangerang'}):\n",
    "    print(doc)"
   ]
  },
  {
   "cell_type": "code",
   "execution_count": 13,
   "metadata": {},
   "outputs": [
    {
     "name": "stdout",
     "output_type": "stream",
     "text": [
      "{'_id': ObjectId('61e6491224efe77d8fa712da'), 'firstname': 'Farid', 'lastname': 'Rizqi', 'address': 'Tangerang', 'age': 29}\n",
      "{'_id': ObjectId('61e649d824efe77d8fa712dc'), 'firstname': 'Usep', 'lastname': 'Sejati', 'address': 'Tangerang', 'age': 25}\n"
     ]
    }
   ],
   "source": [
    "# Return with operator (<, >, in)\n",
    "for doc in collection.find({'age':{'$gt':20}}):\n",
    "    print(doc)"
   ]
  },
  {
   "cell_type": "code",
   "execution_count": 14,
   "metadata": {},
   "outputs": [
    {
     "name": "stdout",
     "output_type": "stream",
     "text": [
      "{'_id': ObjectId('61e649d824efe77d8fa712db'), 'firstname': 'Mamat', 'lastname': 'Akbar', 'address': 'Jakarta', 'age': 20}\n",
      "{'_id': ObjectId('61e649d824efe77d8fa712dd'), 'firstname': 'Nurul', 'lastname': 'Hasyah', 'address': 'Bandung', 'age': 17}\n"
     ]
    }
   ],
   "source": [
    "# Return with operator (<, >, in)\n",
    "for doc in collection.find({'age':{'$lt':23}}):\n",
    "    print(doc)"
   ]
  },
  {
   "cell_type": "code",
   "execution_count": 17,
   "metadata": {},
   "outputs": [
    {
     "name": "stdout",
     "output_type": "stream",
     "text": [
      "{'_id': ObjectId('61e6491224efe77d8fa712da'), 'firstname': 'Farid', 'lastname': 'Rizqi', 'address': 'Tangerang', 'age': 29}\n",
      "{'_id': ObjectId('61e649d824efe77d8fa712db'), 'firstname': 'Mamat', 'lastname': 'Akbar', 'address': 'Jakarta', 'age': 20}\n",
      "{'_id': ObjectId('61e649d824efe77d8fa712dc'), 'firstname': 'Usep', 'lastname': 'Sejati', 'address': 'Tangerang', 'age': 25}\n"
     ]
    }
   ],
   "source": [
    "# Return with operator (<, >, in)\n",
    "for doc in collection.find({'age':{'$gte':20}}):\n",
    "    print(doc)"
   ]
  },
  {
   "cell_type": "code",
   "execution_count": 18,
   "metadata": {},
   "outputs": [
    {
     "name": "stdout",
     "output_type": "stream",
     "text": [
      "{'_id': ObjectId('61e649d824efe77d8fa712db'), 'firstname': 'Mamat', 'lastname': 'Akbar', 'address': 'Jakarta', 'age': 20}\n",
      "{'_id': ObjectId('61e649d824efe77d8fa712dd'), 'firstname': 'Nurul', 'lastname': 'Hasyah', 'address': 'Bandung', 'age': 17}\n"
     ]
    }
   ],
   "source": [
    "# Return with operator (<, >, in)\n",
    "for doc in collection.find({'address':{'$in':['Bandung','Jakarta']}}):\n",
    "    print(doc)"
   ]
  },
  {
   "cell_type": "code",
   "execution_count": 23,
   "metadata": {},
   "outputs": [
    {
     "name": "stdout",
     "output_type": "stream",
     "text": [
      "{'_id': ObjectId('61e649d824efe77d8fa712db'), 'firstname': 'Mamat', 'lastname': 'Akbar', 'address': 'Jakarta', 'age': 20}\n"
     ]
    }
   ],
   "source": [
    "# Return with 'and'\n",
    "for doc in collection.find({'address':'Jakarta', 'age':20}):\n",
    "    print(doc)"
   ]
  },
  {
   "cell_type": "code",
   "execution_count": 24,
   "metadata": {},
   "outputs": [
    {
     "name": "stdout",
     "output_type": "stream",
     "text": [
      "{'_id': ObjectId('61e6491224efe77d8fa712da'), 'firstname': 'Farid', 'lastname': 'Rizqi', 'address': 'Tangerang', 'age': 29}\n",
      "{'_id': ObjectId('61e649d824efe77d8fa712db'), 'firstname': 'Mamat', 'lastname': 'Akbar', 'address': 'Jakarta', 'age': 20}\n"
     ]
    }
   ],
   "source": [
    "# Return with 'or'\n",
    "for doc in collection.find({'$or':[{'firstname':'Farid'},{'address':'Jakarta'}]}):\n",
    "    print(doc)"
   ]
  }
 ],
 "metadata": {
  "interpreter": {
   "hash": "c569783f413038fc1cb6066c2cfeb0b0b4f3040dc384f8f485d839685bac4677"
  },
  "kernelspec": {
   "display_name": "Python 3.7.9 64-bit (system)",
   "language": "python",
   "name": "python3"
  },
  "language_info": {
   "codemirror_mode": {
    "name": "ipython",
    "version": 3
   },
   "file_extension": ".py",
   "mimetype": "text/x-python",
   "name": "python",
   "nbconvert_exporter": "python",
   "pygments_lexer": "ipython3",
   "version": "3.7.9"
  },
  "orig_nbformat": 4
 },
 "nbformat": 4,
 "nbformat_minor": 2
}
