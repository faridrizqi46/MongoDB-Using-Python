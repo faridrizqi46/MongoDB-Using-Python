{
 "cells": [
  {
   "cell_type": "code",
   "execution_count": 1,
   "metadata": {},
   "outputs": [],
   "source": [
    "from pymongo import MongoClient"
   ]
  },
  {
   "cell_type": "code",
   "execution_count": 2,
   "metadata": {},
   "outputs": [],
   "source": [
    "conn = MongoClient('localhost', 27017)\n",
    "db = conn.coba # This is like 'USE' command in CLI"
   ]
  },
  {
   "cell_type": "code",
   "execution_count": 3,
   "metadata": {},
   "outputs": [],
   "source": [
    "# Use collection or create new collection\n",
    "collection = db.coba4"
   ]
  },
  {
   "cell_type": "code",
   "execution_count": 4,
   "metadata": {},
   "outputs": [
    {
     "data": {
      "text/plain": [
       "<pymongo.results.InsertManyResult at 0x170fee67fc8>"
      ]
     },
     "execution_count": 4,
     "metadata": {},
     "output_type": "execute_result"
    }
   ],
   "source": [
    "records = [ \n",
    "    {\"user\":\"Krish\", \"subject\":\"Database\", \"score\":80}, \n",
    "    {\"user\":\"Amit\",  \"subject\":\"JavaScript\", \"score\":90}, \n",
    "    {\"user\":\"Amit\",  \"title\":\"Database\", \"score\":85}, \n",
    "    {\"user\":\"Krish\",  \"title\":\"JavaScript\", \"score\":75}, \n",
    "    {\"user\":\"Amit\",  \"title\":\"Data Science\", \"score\":60},\n",
    "    {\"user\":\"Krish\",  \"title\":\"Data Science\", \"score\":95}] \n",
    "  \n",
    "collection.insert_many(records) "
   ]
  },
  {
   "cell_type": "code",
   "execution_count": 6,
   "metadata": {},
   "outputs": [
    {
     "name": "stdout",
     "output_type": "stream",
     "text": [
      "{'_id': 'Krish', 'Total record': 3}\n",
      "{'_id': 'Amit', 'Total record': 3}\n"
     ]
    }
   ],
   "source": [
    "# Count total record grouped by user\n",
    "agg_result= collection.aggregate( \n",
    "    [{ \n",
    "    \"$group\" :  \n",
    "        {\"_id\" : \"$user\",  \n",
    "         \"Total record\" : {\"$sum\" : 1} \n",
    "         }} \n",
    "    ]) \n",
    "for i in agg_result: \n",
    "    print(i)"
   ]
  },
  {
   "cell_type": "code",
   "execution_count": 7,
   "metadata": {},
   "outputs": [
    {
     "name": "stdout",
     "output_type": "stream",
     "text": [
      "{'_id': 'Krish', 'Total Marks': 250}\n",
      "{'_id': 'Amit', 'Total Marks': 235}\n"
     ]
    }
   ],
   "source": [
    "# Calculating the total score based on user\n",
    "agg_result= collection.aggregate( \n",
    "    [{ \n",
    "    \"$group\" :  \n",
    "        {\"_id\" : \"$user\",  \n",
    "         \"Total Marks\" : {\"$sum\" :\"$score\"} \n",
    "         }} \n",
    "    ]) \n",
    "for i in agg_result: \n",
    "    print(i)"
   ]
  },
  {
   "cell_type": "code",
   "execution_count": 10,
   "metadata": {},
   "outputs": [
    {
     "name": "stdout",
     "output_type": "stream",
     "text": [
      "{'_id': 'Amit', 'StudentScoreAverage': 78.33333333333333}\n",
      "{'_id': 'Krish', 'StudentScoreAverage': 83.33333333333333}\n"
     ]
    }
   ],
   "source": [
    "# Calculating the average score based on user\n",
    "agg_result=collection.aggregate([\n",
    "   {\n",
    "      \"$group\": {\n",
    "         \"_id\": '$user',\n",
    "         \"StudentScoreAverage\": {\n",
    "            \"$avg\": \"$score\"\n",
    "         }\n",
    "      }\n",
    "   }\n",
    "])\n",
    "for i in agg_result: \n",
    "    print(i)"
   ]
  },
  {
   "cell_type": "code",
   "execution_count": 11,
   "metadata": {},
   "outputs": [],
   "source": [
    "# Create new database\n",
    "collection = db.coba5"
   ]
  },
  {
   "cell_type": "code",
   "execution_count": 12,
   "metadata": {},
   "outputs": [
    {
     "data": {
      "text/plain": [
       "<pymongo.results.InsertManyResult at 0x170fee65dc8>"
      ]
     },
     "execution_count": 12,
     "metadata": {},
     "output_type": "execute_result"
    }
   ],
   "source": [
    "import datetime\n",
    "records=[{ \"_id\" : 1, \"item\" : \"abc\", \"price\" : 10, \"quantity\" : 2, \"date\" : datetime.datetime.utcnow()},\n",
    "{ \"_id\" : 2, \"item\" : \"jkl\", \"price\" : 20, \"quantity\" : 1, \"date\" : datetime.datetime.utcnow() },\n",
    "{ \"_id\" : 3, \"item\" : \"xyz\", \"price\" : 5, \"quantity\" : 5, \"date\" : datetime.datetime.utcnow() },\n",
    "{ \"_id\" : 4, \"item\" : \"abc\", \"price\" : 10, \"quantity\" : 10, \"date\" : datetime.datetime.utcnow() },\n",
    "{ \"_id\" : 5, \"item\" : \"xyz\", \"price\" : 5, \"quantity\" : 10, \"date\" :datetime.datetime.utcnow() }]\n",
    "\n",
    "collection.insert_many(records)"
   ]
  },
  {
   "cell_type": "code",
   "execution_count": 13,
   "metadata": {},
   "outputs": [
    {
     "name": "stdout",
     "output_type": "stream",
     "text": [
      "{'_id': 'jkl', 'avgAmount': 20.0, 'avgQuantity': 1.0}\n",
      "{'_id': 'abc', 'avgAmount': 60.0, 'avgQuantity': 6.0}\n",
      "{'_id': 'xyz', 'avgAmount': 37.5, 'avgQuantity': 7.5}\n"
     ]
    }
   ],
   "source": [
    "# Calculating the average quantity And Average Price\n",
    "agg_result=collection.aggregate([\n",
    "   {\n",
    "      \"$group\": {\n",
    "         \"_id\": '$item',\n",
    "         \"avgAmount\": {\"$avg\": {\"$multiply\": [ \"$price\", \"$quantity\" ]}},\n",
    "          \"avgQuantity\": { \"$avg\": \"$quantity\" }\n",
    "      }\n",
    "   }\n",
    "])\n",
    "for i in agg_result: \n",
    "    print(i)"
   ]
  },
  {
   "cell_type": "code",
   "execution_count": 24,
   "metadata": {},
   "outputs": [
    {
     "name": "stdout",
     "output_type": "stream",
     "text": [
      "{'_id': 'xyz', 'avgAmount': 37.5, 'avgQuantity': 7.5}\n"
     ]
    }
   ],
   "source": [
    "# Aggregate with match, match is filter\n",
    "agg_result=collection.aggregate([\n",
    "    {'$match':{'item':'xyz'}\n",
    "        },\n",
    "   {\n",
    "      \"$group\": {\n",
    "         \"_id\": '$item',\n",
    "         \"avgAmount\": {\"$avg\": {\"$multiply\": [ \"$price\", \"$quantity\" ]}},\n",
    "          \"avgQuantity\": { \"$avg\": \"$quantity\" }\n",
    "      }\n",
    "   }\n",
    "])\n",
    "for i in agg_result: \n",
    "    print(i)"
   ]
  },
  {
   "cell_type": "code",
   "execution_count": 21,
   "metadata": {},
   "outputs": [
    {
     "name": "stdout",
     "output_type": "stream",
     "text": [
      "{'_id': 1, 'item': 'abc', 'date': datetime.datetime(2022, 1, 18, 6, 11, 13, 621000)}\n",
      "{'_id': 2, 'item': 'jkl', 'date': datetime.datetime(2022, 1, 18, 6, 11, 13, 621000)}\n",
      "{'_id': 3, 'item': 'xyz', 'date': datetime.datetime(2022, 1, 18, 6, 11, 13, 621000)}\n",
      "{'_id': 4, 'item': 'abc', 'date': datetime.datetime(2022, 1, 18, 6, 11, 13, 621000)}\n",
      "{'_id': 5, 'item': 'xyz', 'date': datetime.datetime(2022, 1, 18, 6, 11, 13, 621000)}\n"
     ]
    }
   ],
   "source": [
    "# Aggregate '$Project', This aggregate like select with specific column in SQL\n",
    "for row in collection.aggregate( [ { \"$project\": { \"item\": 1,\"date\":1 } } ] ): # We put the key we want to show and after that input 1 (True) at value\n",
    "    print(row)"
   ]
  },
  {
   "cell_type": "code",
   "execution_count": 22,
   "metadata": {},
   "outputs": [
    {
     "name": "stdout",
     "output_type": "stream",
     "text": [
      "{'item': 'abc', 'price': 10, 'quantity': 2}\n",
      "{'item': 'jkl', 'price': 20, 'quantity': 1}\n",
      "{'item': 'xyz', 'price': 5, 'quantity': 5}\n",
      "{'item': 'abc', 'price': 10, 'quantity': 10}\n",
      "{'item': 'xyz', 'price': 5, 'quantity': 10}\n"
     ]
    }
   ],
   "source": [
    "for row in collection.aggregate( [ { \"$project\": { \"_id\":0, \"item\": 1, \"quantity\":1, \"price\":1 } } ] ): # if we put 0 at value, the key will not show when we print\n",
    "    print(row)"
   ]
  },
  {
   "cell_type": "code",
   "execution_count": null,
   "metadata": {},
   "outputs": [],
   "source": []
  }
 ],
 "metadata": {
  "interpreter": {
   "hash": "c569783f413038fc1cb6066c2cfeb0b0b4f3040dc384f8f485d839685bac4677"
  },
  "kernelspec": {
   "display_name": "Python 3.7.9 64-bit (system)",
   "language": "python",
   "name": "python3"
  },
  "language_info": {
   "codemirror_mode": {
    "name": "ipython",
    "version": 3
   },
   "file_extension": ".py",
   "mimetype": "text/x-python",
   "name": "python",
   "nbconvert_exporter": "python",
   "pygments_lexer": "ipython3",
   "version": "3.7.9"
  },
  "orig_nbformat": 4
 },
 "nbformat": 4,
 "nbformat_minor": 2
}
